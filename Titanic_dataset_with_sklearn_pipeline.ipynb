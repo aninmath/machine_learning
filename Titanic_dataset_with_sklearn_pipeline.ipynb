{
  "nbformat": 4,
  "nbformat_minor": 0,
  "metadata": {
    "colab": {
      "private_outputs": true,
      "provenance": [],
      "authorship_tag": "ABX9TyOCDa7leo9i/A2dKZeewmFV",
      "include_colab_link": true
    },
    "kernelspec": {
      "name": "python3",
      "display_name": "Python 3"
    },
    "language_info": {
      "name": "python"
    }
  },
  "cells": [
    {
      "cell_type": "markdown",
      "metadata": {
        "id": "view-in-github",
        "colab_type": "text"
      },
      "source": [
        "<a href=\"https://colab.research.google.com/github/aninmath/machine_learning/blob/main/Titanic_dataset_with_sklearn_pipeline.ipynb\" target=\"_parent\"><img src=\"https://colab.research.google.com/assets/colab-badge.svg\" alt=\"Open In Colab\"/></a>"
      ]
    },
    {
      "cell_type": "code",
      "execution_count": null,
      "metadata": {
        "id": "nC0_N0GYySKL"
      },
      "outputs": [],
      "source": [
        "import pandas as pd\n",
        "import numpy as np\n",
        "\n",
        "from sklearn.model_selection import train_test_split\n",
        "\n",
        "import seaborn as sns\n",
        "import matplotlib.pyplot as plt"
      ]
    },
    {
      "cell_type": "code",
      "source": [
        "df = sns.load_dataset('titanic')"
      ],
      "metadata": {
        "id": "DqolA6zgyTZ5"
      },
      "execution_count": null,
      "outputs": []
    },
    {
      "cell_type": "code",
      "source": [
        "df.head()"
      ],
      "metadata": {
        "id": "Oa_ETk9cyTcb"
      },
      "execution_count": null,
      "outputs": []
    },
    {
      "cell_type": "code",
      "source": [
        "x = df.drop(['survived','alive'], axis=1)\n",
        "y = df['survived']"
      ],
      "metadata": {
        "id": "ibOm4Aj_yThK"
      },
      "execution_count": null,
      "outputs": []
    },
    {
      "cell_type": "code",
      "source": [
        "df.parch.value_counts()"
      ],
      "metadata": {
        "id": "JO92PZrj7Gwr"
      },
      "execution_count": null,
      "outputs": []
    },
    {
      "cell_type": "code",
      "source": [
        "x.isnull().sum()"
      ],
      "metadata": {
        "id": "nyyR5QJC6zDy"
      },
      "execution_count": null,
      "outputs": []
    },
    {
      "cell_type": "code",
      "source": [
        "x_train, x_test, y_train, y_test = train_test_split(x, y, test_size=0.2, random_state=42)"
      ],
      "metadata": {
        "id": "igggu-qvzQGY"
      },
      "execution_count": null,
      "outputs": []
    },
    {
      "cell_type": "code",
      "source": [
        "from sklearn.compose import ColumnTransformer\n",
        "from sklearn.pipeline import Pipeline, make_pipeline\n",
        "from sklearn.impute import SimpleImputer\n",
        "from sklearn.preprocessing import OneHotEncoder\n",
        "from sklearn.preprocessing import MinMaxScaler\n",
        "from sklearn.linear_model import LogisticRegression\n",
        "from sklearn.feature_selection import SelectKBest, chi2"
      ],
      "metadata": {
        "id": "O7RQBhvHyTkM"
      },
      "execution_count": null,
      "outputs": []
    },
    {
      "cell_type": "code",
      "source": [
        "# Define column types\n",
        "\n",
        "categorical_cols = ['sex', 'pclass','sibsp','parch','embarked','class','who','adult_male','embark_town','alone','deck']\n",
        "numerical_cols = ['age','fare']"
      ],
      "metadata": {
        "id": "r17pQzDaEWtI"
      },
      "execution_count": null,
      "outputs": []
    },
    {
      "cell_type": "code",
      "source": [
        "x_train.head(1)"
      ],
      "metadata": {
        "id": "a-Y7-Wnk7VzS"
      },
      "execution_count": null,
      "outputs": []
    },
    {
      "cell_type": "code",
      "source": [
        "x_train.isnull().sum()"
      ],
      "metadata": {
        "id": "dmoX9qpY8ScY"
      },
      "execution_count": null,
      "outputs": []
    },
    {
      "cell_type": "code",
      "source": [
        "\n",
        "# Categorical pipeline: Impute missing, then OHE\n",
        "categorical_transformer = Pipeline(steps=[('imputer', SimpleImputer(strategy='most_frequent')),\n",
        " ('onehot', OneHotEncoder(handle_unknown='ignore'))])\n",
        "\n",
        "# Numerical pipeline: Impute missing, then scale\n",
        "numerical_transformer = Pipeline(steps=[('imputer',\n",
        "                                         SimpleImputer(strategy='mean')),('scaler', MinMaxScaler())])\n",
        "\n",
        "# Combine transformers\n",
        "preprocessor = ColumnTransformer(transformers=[('cat', categorical_transformer, categorical_cols),\n",
        " ('num', numerical_transformer, numerical_cols)])\n",
        "\n",
        "# Final pipeline\n",
        "pipeline = Pipeline(steps=[('preprocessor', preprocessor),('classifier', LogisticRegression())])\n"
      ],
      "metadata": {
        "id": "wa092_hVz5Fo"
      },
      "execution_count": null,
      "outputs": []
    },
    {
      "cell_type": "code",
      "source": [
        "pipeline.fit(x_train, y_train)"
      ],
      "metadata": {
        "id": "SxXbZwKkEjOQ"
      },
      "execution_count": null,
      "outputs": []
    },
    {
      "cell_type": "code",
      "source": [
        "pipeline.score(x_test,y_test)"
      ],
      "metadata": {
        "id": "t9bq8p_aEjQp"
      },
      "execution_count": null,
      "outputs": []
    },
    {
      "cell_type": "code",
      "source": [
        "x_train.head(1)"
      ],
      "metadata": {
        "id": "IfMUvXS1EjVj"
      },
      "execution_count": null,
      "outputs": []
    },
    {
      "cell_type": "markdown",
      "source": [
        "## **Say I want to use different imputation for different column**"
      ],
      "metadata": {
        "id": "i37jv_eL-Qcu"
      }
    },
    {
      "cell_type": "code",
      "source": [
        "\n",
        "mean_impute_cols = ['age']\n",
        "mode_impute_cols = categorical_cols\n"
      ],
      "metadata": {
        "id": "qlpjbZo_-WV9"
      },
      "execution_count": null,
      "outputs": []
    },
    {
      "cell_type": "code",
      "source": [
        "x_train.isnull().sum()[x_train.isnull().sum()>0]"
      ],
      "metadata": {
        "id": "NMsb7rGq-WbG"
      },
      "execution_count": null,
      "outputs": []
    },
    {
      "cell_type": "code",
      "source": [
        "\n",
        "mean_imputer = Pipeline([\n",
        "    ('imputer', SimpleImputer(strategy='mean')),\n",
        "    ('scaler', MinMaxScaler())\n",
        "])\n",
        "\n",
        "\n",
        "mode_imputer = Pipeline([\n",
        "    ('imputer', SimpleImputer(strategy='most_frequent')),\n",
        "    ('onehot', OneHotEncoder(handle_unknown='ignore')\n",
        "     )\n",
        "])\n",
        "\n"
      ],
      "metadata": {
        "id": "jSQxiPwWAIcN"
      },
      "execution_count": null,
      "outputs": []
    },
    {
      "cell_type": "code",
      "source": [
        "\n",
        "# Combine all preprocessing\n",
        "preprocessor = ColumnTransformer(transformers=[\n",
        "    ('mean_impute', mean_imputer, numerical_cols),\n",
        "    ('mode_impute', mode_imputer, categorical_cols)\n",
        "])\n",
        "\n",
        "# Final pipeline: preprocessing + scaling + model\n",
        "final_pipeline = Pipeline([\n",
        "    ('preprocessor', preprocessor),\n",
        "    ('classifier', LogisticRegression())\n",
        "])\n"
      ],
      "metadata": {
        "id": "9tKGB_W4AIoJ"
      },
      "execution_count": null,
      "outputs": []
    },
    {
      "cell_type": "code",
      "source": [
        "print(final_pipeline)"
      ],
      "metadata": {
        "id": "5corPEv9AItV"
      },
      "execution_count": null,
      "outputs": []
    },
    {
      "cell_type": "code",
      "source": [
        "\n",
        "from sklearn import set_config\n",
        "set_config(display='diagram')  # Enables visual display\n",
        "\n",
        "final_pipeline  # Just type the pipeline object to render it\n"
      ],
      "metadata": {
        "id": "leZhfw_YL57S"
      },
      "execution_count": null,
      "outputs": []
    },
    {
      "cell_type": "code",
      "source": [
        "final_pipeline.fit(x_train, y_train)"
      ],
      "metadata": {
        "id": "yJgbJ3UC-Wdl"
      },
      "execution_count": null,
      "outputs": []
    },
    {
      "cell_type": "code",
      "source": [
        "final_pipeline.score(x_test,y_test)"
      ],
      "metadata": {
        "id": "7mx6pmvz-WgP"
      },
      "execution_count": null,
      "outputs": []
    },
    {
      "cell_type": "code",
      "source": [
        "#accuracy\n",
        "\n",
        "from sklearn.metrics import accuracy_score\n",
        "y_pred = final_pipeline.predict(x_test)\n",
        "accuracy_score(y_test, y_pred)"
      ],
      "metadata": {
        "id": "jz86dAJPPI0J"
      },
      "execution_count": null,
      "outputs": []
    },
    {
      "cell_type": "code",
      "source": [],
      "metadata": {
        "id": "RCTqwwIDPWCK"
      },
      "execution_count": null,
      "outputs": []
    }
  ]
}